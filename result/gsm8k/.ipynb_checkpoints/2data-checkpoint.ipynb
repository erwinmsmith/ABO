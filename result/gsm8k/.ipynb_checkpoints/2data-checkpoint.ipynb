{
 "cells": [
  {
   "cell_type": "code",
   "execution_count": 8,
   "id": "d0d712e6-bf29-4889-a744-92094e86cbf2",
   "metadata": {
    "scrolled": true
   },
   "outputs": [],
   "source": [
    "import json\n",
    "\n",
    "# 打开 JSON 文件\n",
    "with open('gsm8k_deepseek_basetrue_2025-05-08-13-39-49.json', 'r', encoding='utf-8') as file:\n",
    "    # 读取 JSON 文件内容并转换为 Python 对象\n",
    "    data = json.load(file)\n",
    "\n",
    "# 定义一个函数来递归提取键\n",
    "def extract_keys(obj, parent_key=''):\n",
    "    keys = []\n",
    "    if isinstance(obj, dict):\n",
    "        for key, value in obj.items():\n",
    "            current_key = f\"{parent_key}.{key}\" if parent_key else key\n",
    "            keys.append(current_key)\n",
    "            keys.extend(extract_keys(value, current_key))\n",
    "    elif isinstance(obj, list):\n",
    "        for index, item in enumerate(obj):\n",
    "            current_key = f\"{parent_key}[{index}]\"\n",
    "            keys.extend(extract_keys(item, current_key))\n",
    "    return keys\n",
    "\n",
    "# 提取并打印 JSON 数据中的所有键\n",
    "keys = extract_keys(data)"
   ]
  },
  {
   "cell_type": "code",
   "execution_count": 9,
   "id": "0134dbd8-12a1-4610-acf9-523907fc5106",
   "metadata": {
    "scrolled": true
   },
   "outputs": [],
   "source": [
    "# 定义一个函数来递归查找并提取 \"Solved\" 键的值\n",
    "def extract_solved_values(obj, parent_key=''):\n",
    "    solved_values = []\n",
    "    if isinstance(obj, dict):\n",
    "        for key, value in obj.items():\n",
    "            current_key = f\"{parent_key}.{key}\" if parent_key else key\n",
    "            if key == \"Solved\":\n",
    "                solved_values.append(value)\n",
    "            solved_values.extend(extract_solved_values(value, current_key))\n",
    "    elif isinstance(obj, list):\n",
    "        for index, item in enumerate(obj):\n",
    "            current_key = f\"{parent_key}[{index}]\"\n",
    "            solved_values.extend(extract_solved_values(item, current_key))\n",
    "    return solved_values\n",
    "\n",
    "# 提取并打印 \"Solved\" 键的值\n",
    "solved_values = extract_solved_values(data)"
   ]
  },
  {
   "cell_type": "code",
   "execution_count": 10,
   "id": "5a945cfb-babd-4fef-92ee-ee842cd10ffb",
   "metadata": {},
   "outputs": [
    {
     "name": "stdout",
     "output_type": "stream",
     "text": [
      "Solved 为 False 的条目已保存到 false_solved_items.json 文件\n"
     ]
    }
   ],
   "source": [
    "# 定义一个函数来递归查找 Solved 为 False 的条目\n",
    "def extract_false_solved_items(obj, parent_key=''):\n",
    "    false_solved_items = []\n",
    "    if isinstance(obj, dict):\n",
    "        for key, value in obj.items():\n",
    "            current_key = f\"{parent_key}.{key}\" if parent_key else key\n",
    "            if key == \"Solved\" and value is False:  # 找到 Solved 为 False 的条目\n",
    "                # 找到 Solved 为 False 的条目后，需要返回整个父对象\n",
    "                # 因此，我们需要回溯并找到包含该 Solved 键的父对象\n",
    "                # 这里简化处理，假设 Solved 键在每个问题对象的顶层\n",
    "                # 如果结构复杂，可能需要更复杂的回溯逻辑\n",
    "                # 这里我们直接添加当前对象（可能是一个问题条目）\n",
    "                false_solved_items.append(obj)\n",
    "                break  # 找到后停止遍历当前字典\n",
    "            else:\n",
    "                false_solved_items.extend(extract_false_solved_items(value, current_key))\n",
    "    elif isinstance(obj, list):\n",
    "        for index, item in enumerate(obj):\n",
    "            current_key = f\"{parent_key}[{index}]\"\n",
    "            false_solved_items.extend(extract_false_solved_items(item, current_key))\n",
    "    return false_solved_items\n",
    "\n",
    "# 提取 Solved 为 False 的条目\n",
    "false_solved_items = extract_false_solved_items(data)\n",
    "\n",
    "# 将结果保存到新的 JSON 文件\n",
    "with open('false_solved_items_base.json', 'w', encoding='utf-8') as outfile:\n",
    "    json.dump(false_solved_items, outfile, indent=2, ensure_ascii=False)\n",
    "\n",
    "print(\"Solved 为 False 的条目已保存到 false_solved_items.json 文件\")"
   ]
  },
  {
   "cell_type": "code",
   "execution_count": null,
   "id": "51fcc126-334a-4a18-af52-9ede422481db",
   "metadata": {},
   "outputs": [],
   "source": []
  }
 ],
 "metadata": {
  "kernelspec": {
   "display_name": "Python 3 (ipykernel)",
   "language": "python",
   "name": "python3"
  },
  "language_info": {
   "codemirror_mode": {
    "name": "ipython",
    "version": 3
   },
   "file_extension": ".py",
   "mimetype": "text/x-python",
   "name": "python",
   "nbconvert_exporter": "python",
   "pygments_lexer": "ipython3",
   "version": "3.10.8"
  }
 },
 "nbformat": 4,
 "nbformat_minor": 5
}
